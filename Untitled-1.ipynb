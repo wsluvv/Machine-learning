{
  "cells": [
    {
      "cell_type": "code",
      "execution_count": 1,
      "metadata": {},
      "outputs": [
        {
          "name": "stdout",
          "output_type": "stream",
          "text": [
            "[5, 8, 11, 14, 17, 20, 23, 26, 29, 32]\n"
          ]
        }
      ],
      "source": [
        "#1 Створіть одновимірний масив (вектор) зі сходячою послідовністю чисел, де кожне наступне число більше попереднього на 3, починаючи з 5, та виведіть його значення.\n",
        "\n",
        "start_value = 5\n",
        "num_elements = 10\n",
        "vector = []\n",
        "for i in range(num_elements):\n",
        "    vector.append(start_value)\n",
        "    start_value += 3\n",
        "print(vector)"
      ]
    },
    {
      "cell_type": "code",
      "execution_count": 2,
      "metadata": {},
      "outputs": [
        {
          "name": "stdout",
          "output_type": "stream",
          "text": [
            "[2, 16, 54]\n",
            "[128, 250, 432]\n",
            "[686, 1024, 1458]\n"
          ]
        }
      ],
      "source": [
        "#2 Створіть двовимірний масив (матрицю) розміром 3x3, заповніть його добутками квадратів кожного числа та його подвійного значення, починаючи з 1, та виведіть його значення.\n",
        "\n",
        "rows = 3\n",
        "cols = 3\n",
        "start_value = 1\n",
        "matrix = []\n",
        "for i in range(rows):\n",
        "    row = []\n",
        "    for j in range(cols):\n",
        "        value = start_value**2 * (start_value * 2)\n",
        "        row.append(value)\n",
        "        start_value += 1\n",
        "    matrix.append(row)\n",
        "for row in matrix:\n",
        "    print(row)"
      ]
    },
    {
      "cell_type": "code",
      "execution_count": 3,
      "metadata": {},
      "outputs": [
        {
          "name": "stdout",
          "output_type": "stream",
          "text": [
            "[[ 48 -24 -11   7   5  32 -48  -5 -23  46]\n",
            " [-15 -19 -37 -10 -49  -2 -11  14  34 -24]\n",
            " [ 12  44  -1  10  14  37  -1   6  34 -47]\n",
            " [-34  36  -1  -5 -30 -44  42  27 -13 -12]\n",
            " [  1 -16  36 -33  11 -49  36 -30  10 -35]\n",
            " [-35  36   4  42  16 -15 -31  10  50  30]\n",
            " [  1  34  16  21  34  -6  -9 -46  41 -38]\n",
            " [-28   7  30  -8  25  15 -32 -27 -37  22]\n",
            " [-39  42 -48  50  39  45  28  -8  25  26]\n",
            " [-36 -38  41 -45 -49 -17  35 -38 -36  10]]\n"
          ]
        }
      ],
      "source": [
        "#3 Створіть масив розміром 10x10, заповніть його випадковими дійсними числами в діапазоні від -50 до 50 та виведіть його значення.\n",
        "\n",
        "import numpy as np\n",
        "rows = 10\n",
        "cols = 10\n",
        "min_value = -50\n",
        "max_value = 50\n",
        "random_matrix = np.random.randint(min_value, max_value + 1, size=(rows, cols))\n",
        "print(random_matrix)"
      ]
    },
    {
      "cell_type": "code",
      "execution_count": 4,
      "metadata": {},
      "outputs": [
        {
          "name": "stdout",
          "output_type": "stream",
          "text": [
            "Матриця:\n",
            "[[0.10884343 0.22625904 0.79776548 0.37656724]\n",
            " [0.15298113 0.30333359 0.66186314 0.28470736]\n",
            " [0.03937947 0.32925991 0.73923786 0.53649872]\n",
            " [0.34827804 0.59997998 0.47758507 0.55695863]]\n",
            "Вектор з середніми значеннями стовпців:\n",
            "[0.16237052 0.36470813 0.66911289 0.43868299]\n"
          ]
        }
      ],
      "source": [
        "#4 Створіть масив розміром 4x4, заповніть його випадковими дійсними числами в діапазоні від 0 до 1 та знайдіть вектор-рядок, що містить середнє значення елементів кожного стовпця матриці.\n",
        "\n",
        "import numpy as np\n",
        "rows = 4\n",
        "cols = 4\n",
        "matrix = np.random.rand(rows, cols)\n",
        "print(\"Матриця:\")\n",
        "print(matrix)\n",
        "mean_vector = np.mean(matrix, axis=0)\n",
        "print(\"Вектор з середніми значеннями стовпців:\")\n",
        "print(mean_vector)"
      ]
    },
    {
      "cell_type": "code",
      "execution_count": 11,
      "metadata": {},
      "outputs": [
        {
          "name": "stdout",
          "output_type": "stream",
          "text": [
            "Масив 1: [-0.82532123 -2.26635752  1.70218444 -1.18401351 -2.0829698   1.18697395\n",
            " -0.85418821]\n",
            "Масив 2: [-0.83700393  0.06957943 -0.93759869  1.69240315  0.10438843  1.76377472\n",
            "  0.72620745]\n",
            "Результат додавання: [-1.66232516 -2.19677809  0.76458575  0.50838964 -1.97858138  2.95074867\n",
            " -0.12798076]\n",
            "Результат віднімання: [ 0.0116827  -2.33593695  2.63978312 -2.87641667 -2.18735823 -0.57680077\n",
            " -1.58039566]\n",
            "Результат множення: [ 0.69079711 -0.15769187 -1.59596589 -2.0038282  -0.21743794  2.09355465\n",
            " -0.62031784]\n"
          ]
        }
      ],
      "source": [
        "#5 Створіть два одновимірних масиви розміром 7, заповніть їх випадковими дійсними числами від -2.5 до 2.5 та виконайте на них поелементні операції додавання, віднімання та множення.\n",
        "\n",
        "import numpy as np\n",
        "size = 7\n",
        "min_value = -2.5\n",
        "max_value = 2.5\n",
        "array1 = np.random.uniform(min_value, max_value, size)\n",
        "array2 = np.random.uniform(min_value, max_value, size)\n",
        "print(\"Масив 1:\", array1)\n",
        "print(\"Масив 2:\", array2)\n",
        "#додавання\n",
        "result_addition = array1 + array2\n",
        "print(\"Результат додавання:\", result_addition)\n",
        "#віднімання\n",
        "result_subtraction = array1 - array2\n",
        "print(\"Результат віднімання:\", result_subtraction)\n",
        "#множення\n",
        "result_multiplication = array1 * array2\n",
        "print(\"Результат множення:\", result_multiplication)"
      ]
    },
    {
      "cell_type": "code",
      "execution_count": null,
      "metadata": {},
      "outputs": [],
      "source": [
        "#6 Створіть два вектори розміром 7, заповніть їх довільними цілими числами та знайдіть їх скалярний добуток.\n",
        "\n"
      ]
    }
  ],
  "metadata": {
    "kernelspec": {
      "display_name": "Python 3",
      "language": "python",
      "name": "python3"
    },
    "language_info": {
      "codemirror_mode": {
        "name": "ipython",
        "version": 3
      },
      "file_extension": ".py",
      "mimetype": "text/x-python",
      "name": "python",
      "nbconvert_exporter": "python",
      "pygments_lexer": "ipython3",
      "version": "3.11.5"
    },
    "orig_nbformat": 4
  },
  "nbformat": 4,
  "nbformat_minor": 2
}
