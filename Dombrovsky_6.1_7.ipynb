{
 "cells": [
  {
   "cell_type": "code",
   "execution_count": 1,
   "metadata": {},
   "outputs": [
    {
     "name": "stdout",
     "output_type": "stream",
     "text": [
      "   Довжина чашолистника (см)  Ширина чашолистника (см)  Довжина пелюстки (см)  \\\n",
      "0                   5.648344                  4.179838               1.304922   \n",
      "1                   7.722572                  2.574949               4.134992   \n",
      "2                   6.935178                  2.347748               4.189747   \n",
      "3                   6.455171                  3.174687               4.760836   \n",
      "4                   4.861667                  4.365561               5.283939   \n",
      "\n",
      "   Ширина пелюстки (см)              Клас  \n",
      "0              1.965153       Iris-Setosa  \n",
      "1              1.440170  Iris-Versicolour  \n",
      "2              1.118133  Iris-Versicolour  \n",
      "3              2.275251       Iris-Setosa  \n",
      "4              0.366874  Iris-Versicolour  \n"
     ]
    }
   ],
   "source": [
    "import pandas as pd\n",
    "import numpy as np\n",
    "from sklearn.datasets import load_iris\n",
    "from sklearn.model_selection import train_test_split\n",
    "from sklearn.svm import SVC\n",
    "from sklearn.ensemble import RandomForestClassifier\n",
    "from sklearn.metrics import accuracy_score\n",
    "\n",
    "np.random.seed(42)\n",
    "sepal_length = np.random.uniform(4.3, 7.9, 150)\n",
    "sepal_width = np.random.uniform(2.0, 4.4, 150)\n",
    "petal_length = np.random.uniform(1.0, 6.9, 150)\n",
    "petal_width = np.random.uniform(0.1, 2.5, 150)\n",
    "classes = np.random.choice(['Iris-Setosa', 'Iris-Versicolour', 'Iris-Virginica'], 150)\n",
    "iris_data = pd.DataFrame({'Довжина чашолистника (см)': sepal_length,\n",
    "                          'Ширина чашолистника (см)': sepal_width,\n",
    "                          'Довжина пелюстки (см)': petal_length,\n",
    "                          'Ширина пелюстки (см)': petal_width,\n",
    "                          'Клас': classes})\n",
    "print(iris_data.head())\n",
    "iris_data.to_csv('iris_dataset.csv', index=False)"
   ]
  },
  {
   "cell_type": "code",
   "execution_count": 2,
   "metadata": {},
   "outputs": [
    {
     "name": "stdout",
     "output_type": "stream",
     "text": [
      "Точність моделі SVM: 1.0\n",
      "Точність моделі Random Forest: 1.0\n"
     ]
    }
   ],
   "source": [
    "iris_data = load_iris()\n",
    "X = iris_data.data\n",
    "y = iris_data.target\n",
    "X_train, X_test, y_train, y_test = train_test_split(X, y, test_size=0.2, random_state=42)\n",
    "svm_classifier = SVC(kernel='linear', C=1)\n",
    "svm_classifier.fit(X_train, y_train)\n",
    "svm_predictions = svm_classifier.predict(X_test)\n",
    "svm_accuracy = accuracy_score(y_test, svm_predictions)\n",
    "print(\"Точність моделі SVM:\", svm_accuracy)\n",
    "rf_classifier = RandomForestClassifier(n_estimators=100, random_state=42)\n",
    "rf_classifier.fit(X_train, y_train)\n",
    "rf_predictions = rf_classifier.predict(X_test)\n",
    "rf_accuracy = accuracy_score(y_test, rf_predictions)\n",
    "print(\"Точність моделі Random Forest:\", rf_accuracy)"
   ]
  },
  {
   "cell_type": "markdown",
   "metadata": {},
   "source": [
    "Обидва алгоритми дали ідеальний результат на тестовому наборі даних. "
   ]
  },
  {
   "cell_type": "markdown",
   "metadata": {},
   "source": [
    "У завданні 1 було проведено класифікацію набору даних Iris за допомогою алгоритмів SVM і Random Forest. \n",
    "Набір даних Iris містить інформацію про довжину та ширину чашолистника та пелюстки трьох видів квітів: \n",
    "• Iris-Setosa; \n",
    "• Iris-Versicolour; \n",
    "• Iris-Virginica. \n",
    "\n",
    "Ось основні висновки з цього завдання:\n",
    "• Завантаження даних: Дані було завантажено з бібліотеки scikit-learn. Набір даних містить 150 прикладів, по 50 для кожного класу, та 4 числові ознаки.\n",
    "• Розділення даних: Дані було розділено на тренувальний і тестовий набори для оцінки точності моделей.\n",
    "• Застосування SVM: Алгоритм SVM було використано для класифікації даних. Модель досягла точності 100%, що означає, що вона ідеально класифікувала дані.\n",
    "• Застосування Random Forest: Алгоритм Random Forest було використано для класифікації даних. Модель також досягла точності 100%, що свідчить про високу ефективність цього алгоритму для даного набору даних.\n",
    "• Порівняння результатів: Обидві моделі показали високу точність в класифікації Iris, але важливо враховувати, що набір даних Iris є досить простим і добре роздільним. Такі алгоритми, як SVM і Random Forest, можуть бути особливо ефективними в таких випадках.\n",
    "\n",
    "У цьому завданні я успішно використав алгоритми SVM і Random Forest для класифікації набору даних Iris. Обидві моделі дали точність 100%, що свідчить про їхню ефективність на цьому простому наборі даних.\n",
    "\n",
    "Цей код може бути корисним для тестування та відлагодження коду, який працює з наборами даних, без необхідності завантажувати або використовувати реальний набір даних Iris. Також це дає можливість визначити, як алгоритми машинного навчання ведуть себе на випадкових даних, якщо вони вже були навчені на реальних даних Iris."
   ]
  }
 ],
 "metadata": {
  "kernelspec": {
   "display_name": "Python 3",
   "language": "python",
   "name": "python3"
  },
  "language_info": {
   "codemirror_mode": {
    "name": "ipython",
    "version": 3
   },
   "file_extension": ".py",
   "mimetype": "text/x-python",
   "name": "python",
   "nbconvert_exporter": "python",
   "pygments_lexer": "ipython3",
   "version": "3.11.6"
  }
 },
 "nbformat": 4,
 "nbformat_minor": 2
}
