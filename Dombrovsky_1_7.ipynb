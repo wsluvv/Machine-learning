{
  "cells": [
    {
      "cell_type": "code",
      "execution_count": null,
      "metadata": {},
      "outputs": [],
      "source": [
        "#1 Створіть одновимірний масив (вектор) зі сходячою послідовністю чисел, де кожне наступне число більше попереднього на 3, починаючи з 5, та виведіть його значення.\n",
        "\n",
        "start_value = 5\n",
        "num_elements = 10\n",
        "vector = []\n",
        "for i in range(num_elements):\n",
        "    vector.append(start_value)\n",
        "    start_value += 3\n",
        "print(vector)"
      ]
    },
    {
      "cell_type": "code",
      "execution_count": null,
      "metadata": {},
      "outputs": [],
      "source": [
        "#2 Створіть двовимірний масив (матрицю) розміром 3x3, заповніть його добутками квадратів кожного числа та його подвійного значення, починаючи з 1, та виведіть його значення.\n",
        "\n",
        "rows = 3\n",
        "cols = 3\n",
        "start_value = 1\n",
        "matrix = []\n",
        "for i in range(rows):\n",
        "    row = []\n",
        "    for j in range(cols):\n",
        "        value = start_value**2 * (start_value * 2)\n",
        "        row.append(value)\n",
        "        start_value += 1\n",
        "    matrix.append(row)\n",
        "for row in matrix:\n",
        "    print(row)"
      ]
    },
    {
      "cell_type": "code",
      "execution_count": null,
      "metadata": {},
      "outputs": [],
      "source": [
        "#3 Створіть масив розміром 10x10, заповніть його випадковими дійсними числами в діапазоні від -50 до 50 та виведіть його значення.\n",
        "\n",
        "import numpy as np\n",
        "rows = 10\n",
        "cols = 10\n",
        "min_value = -50\n",
        "max_value = 50\n",
        "random_matrix = np.random.randint(min_value, max_value + 1, size=(rows, cols))\n",
        "print(random_matrix)"
      ]
    },
    {
      "cell_type": "code",
      "execution_count": null,
      "metadata": {},
      "outputs": [],
      "source": [
        "#4 Створіть масив розміром 4x4, заповніть його випадковими дійсними числами в діапазоні від 0 до 1 та знайдіть вектор-рядок, що містить середнє значення елементів кожного стовпця матриці.\n",
        "\n",
        "import numpy as np\n",
        "rows = 4\n",
        "cols = 4\n",
        "matrix = np.random.rand(rows, cols)\n",
        "print(\"Матриця:\")\n",
        "print(matrix)\n",
        "mean_vector = np.mean(matrix, axis=0)\n",
        "print(\"Вектор з середніми значеннями стовпців:\")\n",
        "print(mean_vector)"
      ]
    },
    {
      "cell_type": "code",
      "execution_count": null,
      "metadata": {},
      "outputs": [],
      "source": [
        "#5 Створіть два одновимірних масиви розміром 7, заповніть їх випадковими дійсними числами від -2.5 до 2.5 та виконайте на них поелементні операції додавання, віднімання та множення.\n",
        "\n",
        "import numpy as np\n",
        "size = 7\n",
        "min_value = -2.5\n",
        "max_value = 2.5\n",
        "array1 = np.random.uniform(min_value, max_value, size)\n",
        "array2 = np.random.uniform(min_value, max_value, size)\n",
        "print(\"Масив 1:\", array1)\n",
        "print(\"Масив 2:\", array2)\n",
        "#додавання\n",
        "result_addition = array1 + array2\n",
        "print(\"Результат додавання:\", result_addition)\n",
        "#віднімання\n",
        "result_subtraction = array1 - array2\n",
        "print(\"Результат віднімання:\", result_subtraction)\n",
        "#множення\n",
        "result_multiplication = array1 * array2\n",
        "print(\"Результат множення:\", result_multiplication)"
      ]
    },
    {
      "cell_type": "code",
      "execution_count": null,
      "metadata": {},
      "outputs": [],
      "source": [
        "#6 Створіть два вектори розміром 7, заповніть їх довільними цілими числами та знайдіть їх скалярний добуток.\n",
        "\n",
        "import numpy as np\n",
        "size = 7\n",
        "vector1 = np.random.randint(-10, 10, size)\n",
        "vector2 = np.random.randint(-10, 10, size)\n",
        "print(\"Вектор 1:\", vector1)\n",
        "print(\"Вектор 2:\", vector2)\n",
        "dot_product = np.dot(vector1, vector2)\n",
        "print(\"Скалярний добуток:\", dot_product)"
      ]
    },
    {
      "cell_type": "code",
      "execution_count": null,
      "metadata": {},
      "outputs": [],
      "source": [
        "#7 Створіть дві матриці розміром 4x2 та 2x2, заповніть їх випадковими цілими числами в діапазоні від 1 до 10 та перемножте їх між собою.\n",
        "\n",
        "import numpy as np\n",
        "rows1 = 4\n",
        "cols1 = 2\n",
        "rows2 = 2\n",
        "cols2 = 2\n",
        "matrix1 = np.random.randint(1, 11, size=(rows1, cols1))\n",
        "matrix2 = np.random.randint(1, 11, size=(rows2, cols2))\n",
        "print(\"Перша матриця (4x2):\")\n",
        "print(matrix1)\n",
        "\n",
        "print(\"Друга матриця (2x2):\")\n",
        "print(matrix2)\n",
        "result_matrix = np.dot(matrix1, matrix2)\n",
        "print(\"Результат перемноження матриць:\")\n",
        "print(result_matrix)\n"
      ]
    },
    {
      "cell_type": "code",
      "execution_count": null,
      "metadata": {},
      "outputs": [],
      "source": [
        "#8 Створіть матрицю розміром 2x2, заповніть її випадковими цілими числами в діапазоні від 1 до 12 та знайдіть її обернену матрицю.\n",
        "\n",
        "import numpy as np\n",
        "rows = 2\n",
        "cols = 2\n",
        "matrix = np.random.randint(1, 13, size=(rows, cols))\n",
        "print(\"Матриця:\")\n",
        "print(matrix)\n",
        "try:\n",
        "    inverse_matrix = np.linalg.inv(matrix)\n",
        "    print(\"Обернена матриця:\")\n",
        "    print(inverse_matrix)\n",
        "except np.linalg.LinAlgError:\n",
        "    print(\"Ця матриця не має оберненої матриці, оскільки вона є сингулярною.\")"
      ]
    },
    {
      "cell_type": "code",
      "execution_count": null,
      "metadata": {},
      "outputs": [],
      "source": [
        "#9 Створіть матрицю розміром 3x3, заповніть її випадковими цілими числами в діапазоні від 0 до 1 та транспонуйте її.\n",
        "\n",
        "import numpy as np\n",
        "rows = 3\n",
        "cols = 3\n",
        "matrix = np.random.randint(0, 2, size=(rows, cols))\n",
        "print(\"Матриця:\")\n",
        "print(matrix)\n",
        "transposed_matrix = np.transpose(matrix)\n",
        "print(\"Транспонована матриця:\")\n",
        "print(transposed_matrix)"
      ]
    },
    {
      "cell_type": "code",
      "execution_count": null,
      "metadata": {},
      "outputs": [],
      "source": [
        "#10 Створіть матрицю розміром 3x4 та вектор розміром 4, заповніть матрицю випадковими цілими числами в діапазоні від 1 до 10, а вектор - випадковими цілими числами в діапазоні від 1 до 10, і знайдіть від'ємні елементи отриманої матриці.\n",
        "\n",
        "import numpy as np\n",
        "rows = 3\n",
        "cols = 4\n",
        "matrix = np.random.randint(1, 11, size=(rows, cols))\n",
        "vector = np.random.randint(1, 11, size=cols)\n",
        "print(\"Матриця:\")\n",
        "print(matrix)\n",
        "print(\"Вектор:\")\n",
        "print(vector)\n",
        "negative_elements = matrix[matrix < 0]\n",
        "print(\"Від'ємні елементи матриці:\")\n",
        "print(negative_elements)"
      ]
    },
    {
      "cell_type": "code",
      "execution_count": null,
      "metadata": {},
      "outputs": [],
      "source": [
        "#11 Створіть матрицю розміром 2x3 та вектор розміром 3, заповніть матрицю випадковими дійсними числами від 0 до 1, а вектор - випадковими цілими числами в діапазоні від 1 до 10, і знайдіть добуток матриці на вектор.\n",
        "\n",
        "import numpy as np\n",
        "rows = 2\n",
        "cols = 3\n",
        "matrix = np.random.rand(rows, cols)\n",
        "vector = np.random.randint(1, 11, size=cols)\n",
        "print(\"Матриця:\")\n",
        "print(matrix)\n",
        "print(\"Вектор:\")\n",
        "print(vector)\n",
        "result = np.dot(matrix, vector)\n",
        "print(\"Добуток матриці на вектор:\")\n",
        "print(result)\n"
      ]
    },
    {
      "cell_type": "code",
      "execution_count": null,
      "metadata": {},
      "outputs": [],
      "source": [
        "#12 Створіть дві матриці розміром 8x8, заповніть їх випадковими цілими числами в діапазоні від 1 до 10 та знайдіть різницю елементів першої матриці.\n",
        "\n",
        "import numpy as np\n",
        "rows = 8\n",
        "cols = 8\n",
        "matrix1 = np.random.randint(1, 11, size=(rows, cols))\n",
        "matrix2 = np.random.randint(1, 11, size=(rows, cols))\n",
        "print(\"Перша матриця:\")\n",
        "print(matrix1)\n",
        "print(\"Друга матриця:\")\n",
        "print(matrix2)\n",
        "result_matrix = matrix1 - matrix2\n",
        "print(\"Різниця елементів першої матриці від другої матриці:\")\n",
        "print(result_matrix)"
      ]
    },
    {
      "cell_type": "code",
      "execution_count": null,
      "metadata": {},
      "outputs": [],
      "source": [
        "#13 Створіть дві матриці розміром 8x8, заповніть їх випадковими дійсними числами в діапазоні від -1 до 1 та знайдіть різницю їх елементів.\n",
        "\n",
        "import numpy as np\n",
        "rows = 8\n",
        "cols = 8\n",
        "matrix1 = np.random.uniform(-1, 1, size=(rows, cols))\n",
        "matrix2 = np.random.uniform(-1, 1, size=(rows, cols))\n",
        "print(\"Перша матриця:\")\n",
        "print(matrix1)\n",
        "print(\"Друга матриця:\")\n",
        "print(matrix2)\n",
        "result_matrix = matrix1 - matrix2\n",
        "print(\"Різниця елементів першої матриці від другої матриці:\")\n",
        "print(result_matrix)"
      ]
    },
    {
      "cell_type": "code",
      "execution_count": null,
      "metadata": {},
      "outputs": [],
      "source": [
        "#14 Створіть матрицю розміром 5x5, заповніть її випадковими дійсними числами в діапазоні від 0 до 1 та знайдіть середнє арифметичне значення елементів матриці.\n",
        "\n",
        "import numpy as np\n",
        "rows = 5\n",
        "cols = 5\n",
        "matrix = np.random.rand(rows, cols)\n",
        "print(\"Матриця:\")\n",
        "print(matrix)\n",
        "mean_value = np.mean(matrix)\n",
        "print(\"Середнє арифметичне значення елементів матриці:\", mean_value)"
      ]
    },
    {
      "cell_type": "code",
      "execution_count": null,
      "metadata": {},
      "outputs": [],
      "source": [
        "#15 Створіть матрицю розміром 9x9, заповніть її випадковими дійсними числами в діапазоні від -0.5 до 0.5 та знайдіть вектор-стовпчик, що містить найбільше за модулем значення елементу у кожному рядку матриці.\n",
        "\n",
        "import numpy as np\n",
        "rows = 9\n",
        "cols = 9\n",
        "matrix = np.random.uniform(-0.5, 0.5, size=(rows, cols))\n",
        "print(\"Матриця:\")\n",
        "print(matrix)\n",
        "max_abs_values = np.max(np.abs(matrix), axis=1)\n",
        "max_abs_indices = np.argmax(np.abs(matrix), axis=1)\n",
        "result_vector = np.array([matrix[i, j] for i, j in enumerate(max_abs_indices)])\n",
        "print(\"Вектор-стовпчик з найбільшими за модулем значеннями:\")\n",
        "print(result_vector)\n"
      ]
    }
  ],
  "metadata": {
    "kernelspec": {
      "display_name": "Python 3",
      "language": "python",
      "name": "python3"
    },
    "language_info": {
      "codemirror_mode": {
        "name": "ipython",
        "version": 3
      },
      "file_extension": ".py",
      "mimetype": "text/x-python",
      "name": "python",
      "nbconvert_exporter": "python",
      "pygments_lexer": "ipython3",
      "version": "3.11.5"
    },
    "orig_nbformat": 4
  },
  "nbformat": 4,
  "nbformat_minor": 2
}
