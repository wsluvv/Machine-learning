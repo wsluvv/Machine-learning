{
 "cells": [
  {
   "cell_type": "code",
   "execution_count": 4,
   "metadata": {},
   "outputs": [
    {
     "ename": "ModuleNotFoundError",
     "evalue": "No module named 'surprise'",
     "output_type": "error",
     "traceback": [
      "\u001b[1;31m---------------------------------------------------------------------------\u001b[0m",
      "\u001b[1;31mModuleNotFoundError\u001b[0m                       Traceback (most recent call last)",
      "\u001b[1;32mc:\\Users\\wsluvv\\Desktop\\ПР_МН_8\\ПР_МН_8\\Dombrovsky_8_7.ipynb Cell 1\u001b[0m line \u001b[0;36m2\n\u001b[0;32m      <a href='vscode-notebook-cell:/c%3A/Users/wsluvv/Desktop/%D0%9F%D0%A0_%D0%9C%D0%9D_8/%D0%9F%D0%A0_%D0%9C%D0%9D_8/Dombrovsky_8_7.ipynb#W0sZmlsZQ%3D%3D?line=0'>1</a>\u001b[0m \u001b[39m# імпорт surprise\u001b[39;00m\n\u001b[1;32m----> <a href='vscode-notebook-cell:/c%3A/Users/wsluvv/Desktop/%D0%9F%D0%A0_%D0%9C%D0%9D_8/%D0%9F%D0%A0_%D0%9C%D0%9D_8/Dombrovsky_8_7.ipynb#W0sZmlsZQ%3D%3D?line=1'>2</a>\u001b[0m \u001b[39mfrom\u001b[39;00m \u001b[39msurprise\u001b[39;00m \u001b[39mimport\u001b[39;00m Dataset, Reader\n\u001b[0;32m      <a href='vscode-notebook-cell:/c%3A/Users/wsluvv/Desktop/%D0%9F%D0%A0_%D0%9C%D0%9D_8/%D0%9F%D0%A0_%D0%9C%D0%9D_8/Dombrovsky_8_7.ipynb#W0sZmlsZQ%3D%3D?line=2'>3</a>\u001b[0m \u001b[39mfrom\u001b[39;00m \u001b[39msurprise\u001b[39;00m\u001b[39m.\u001b[39;00m\u001b[39mmodel_selection\u001b[39;00m \u001b[39mimport\u001b[39;00m train_test_split\n\u001b[0;32m      <a href='vscode-notebook-cell:/c%3A/Users/wsluvv/Desktop/%D0%9F%D0%A0_%D0%9C%D0%9D_8/%D0%9F%D0%A0_%D0%9C%D0%9D_8/Dombrovsky_8_7.ipynb#W0sZmlsZQ%3D%3D?line=3'>4</a>\u001b[0m \u001b[39mfrom\u001b[39;00m \u001b[39msurprise\u001b[39;00m \u001b[39mimport\u001b[39;00m SVD, SVDpp, NMF\n",
      "\u001b[1;31mModuleNotFoundError\u001b[0m: No module named 'surprise'"
     ]
    }
   ],
   "source": [
    "# імпорт surprise\n",
    "from surprise import Dataset, Reader\n",
    "from surprise.model_selection import train_test_split\n",
    "from surprise import SVD, SVDpp, NMF\n",
    "from surprise import accuracy\n",
    "from surprise.prediction_algorithms import KNNBasic, KNNWithMeans\n",
    "\n",
    "# завантаження датасету\n",
    "data = Dataset.load_builtin('ml-100k')\n",
    "reader = Reader(line_format='user item rating timestamp', sep='\\t', rating_scale=(1, 5))\n",
    "data = Dataset.load_from_file('путь/до/ml-100k/u.data', reader)\n",
    "trainset, testset = train_test_split(data, test_size=0.25)\n",
    "svd_model = SVD()\n",
    "svdpp_model = SVDpp()\n",
    "nmf_model = NMF()\n",
    "knn_basic_model = KNNBasic()\n",
    "knn_means_model = KNNWithMeans()\n",
    "svd_model.fit(trainset)\n",
    "svdpp_model.fit(trainset)\n",
    "nmf_model.fit(trainset)\n",
    "knn_basic_model.fit(trainset)\n",
    "knn_means_model.fit(trainset)\n",
    "svd_predictions = svd_model.test(testset)\n",
    "svdpp_predictions = svdpp_model.test(testset)\n",
    "nmf_predictions = nmf_model.test(testset)\n",
    "knn_basic_predictions = knn_basic_model.test(testset)\n",
    "knn_means_predictions = knn_means_model.test(testset)\n",
    "print(\"SVD accuracy:\", accuracy.rmse(svd_predictions))\n",
    "print(\"SVD++ accuracy:\", accuracy.rmse(svdpp_predictions))\n",
    "print(\"NMF accuracy:\", accuracy.rmse(nmf_predictions))\n",
    "print(\"KNNBasic accuracy:\", accuracy.rmse(knn_basic_predictions))\n",
    "print(\"KNNWithMeans accuracy:\", accuracy.rmse(knn_means_predictions))"
   ]
  },
  {
   "cell_type": "code",
   "execution_count": null,
   "metadata": {},
   "outputs": [],
   "source": [
    "from surprise.model_selection import GridSearchCV\n",
    "\n",
    "param_grid_svd = {'n_epochs': [5, 10, 15], 'lr_all': [0.002, 0.005, 0.01]}\n",
    "param_grid_svdpp = {'n_epochs': [5, 10, 15], 'lr_all': [0.002, 0.005, 0.01]}\n",
    "param_grid_nmf = {'n_epochs': [5, 10, 15], 'reg_pu': [0.06, 0.08, 0.1]}\n",
    "param_grid_knn_basic = {'k': [20, 30, 40], 'sim_options': {'name': ['cosine', 'pearson'], 'user_based': [False, True]}}\n",
    "param_grid_knn_means = {'k': [20, 30, 40], 'sim_options': {'name': ['cosine', 'pearson'], 'user_based': [False, True]}}\n",
    "grid_search_svd = GridSearchCV(SVD, param_grid_svd, measures=['rmse'], cv=3)\n",
    "grid_search_svdpp = GridSearchCV(SVDpp, param_grid_svdpp, measures=['rmse'], cv=3)\n",
    "grid_search_nmf = GridSearchCV(NMF, param_grid_nmf, measures=['rmse'], cv=3)\n",
    "grid_search_knn_basic = GridSearchCV(KNNBasic, param_grid_knn_basic, measures=['rmse'], cv=3)\n",
    "grid_search_knn_means = GridSearchCV(KNNWithMeans, param_grid_knn_means, measures=['rmse'], cv=3)\n",
    "grid_search_svd.fit(data)\n",
    "grid_search_svdpp.fit(data)\n",
    "grid_search_nmf.fit(data)\n",
    "grid_search_knn_basic.fit(data)\n",
    "grid_search_knn_means.fit(data)\n",
    "print(\"SVD best params:\", grid_search_svd.best_params['rmse'])\n",
    "print(\"SVD++ best params:\", grid_search_svdpp.best_params['rmse'])\n",
    "print(\"NMF best params:\", grid_search_nmf.best_params['rmse'])\n",
    "print(\"KNNBasic best params:\", grid_search_knn_basic.best_params['rmse'])\n",
    "print(\"KNNWithMeans best params:\", grid_search_knn_means.best_params['rmse'])"
   ]
  },
  {
   "cell_type": "code",
   "execution_count": null,
   "metadata": {},
   "outputs": [],
   "source": [
    "mean_rmse_svd = grid_search_svd.cv_results['mean_test_rmse'][grid_search_svd.best_index_]\n",
    "mean_rmse_svdpp = grid_search_svdpp.cv_results['mean_test_rmse'][grid_search_svdpp.best_index_]\n",
    "mean_rmse_nmf = grid_search_nmf.cv_results['mean_test_rmse'][grid_search_nmf.best_index_]\n",
    "mean_rmse_knn_basic = grid_search_knn_basic.cv_results['mean_test_rmse'][grid_search_knn_basic.best_index_]\n",
    "mean_rmse_knn_means = grid_search_knn_means.cv_results['mean_test_rmse'][grid_search_knn_means.best_index_]\n",
    "print(\"SVD mean RMSE:\", mean_rmse_svd)\n",
    "print(\"SVD++ mean RMSE:\", mean_rmse_svdpp)\n",
    "print(\"NMF mean RMSE:\", mean_rmse_nmf)\n",
    "print(\"KNNBasic mean RMSE:\", mean_rmse_knn_basic)\n",
    "print(\"KNNWithMeans mean RMSE:\", mean_rmse_knn_means)"
   ]
  },
  {
   "cell_type": "code",
   "execution_count": null,
   "metadata": {},
   "outputs": [
    {
     "ename": "NameError",
     "evalue": "name 'mean_rmse_svd' is not defined",
     "output_type": "error",
     "traceback": [
      "\u001b[1;31m---------------------------------------------------------------------------\u001b[0m",
      "\u001b[1;31mNameError\u001b[0m                                 Traceback (most recent call last)",
      "\u001b[1;32mc:\\Users\\wsluvv\\Desktop\\ПР_МН_8\\ПР_МН_8\\Dombrovsky_8_7.ipynb Cell 4\u001b[0m line \u001b[0;36m3\n\u001b[0;32m      <a href='vscode-notebook-cell:/c%3A/Users/wsluvv/Desktop/%D0%9F%D0%A0_%D0%9C%D0%9D_8/%D0%9F%D0%A0_%D0%9C%D0%9D_8/Dombrovsky_8_7.ipynb#W4sZmlsZQ%3D%3D?line=0'>1</a>\u001b[0m \u001b[39mimport\u001b[39;00m \u001b[39mmatplotlib\u001b[39;00m\u001b[39m.\u001b[39;00m\u001b[39mpyplot\u001b[39;00m \u001b[39mas\u001b[39;00m \u001b[39mplt\u001b[39;00m\n\u001b[0;32m      <a href='vscode-notebook-cell:/c%3A/Users/wsluvv/Desktop/%D0%9F%D0%A0_%D0%9C%D0%9D_8/%D0%9F%D0%A0_%D0%9C%D0%9D_8/Dombrovsky_8_7.ipynb#W4sZmlsZQ%3D%3D?line=1'>2</a>\u001b[0m algorithms \u001b[39m=\u001b[39m [\u001b[39m'\u001b[39m\u001b[39mSVD\u001b[39m\u001b[39m'\u001b[39m, \u001b[39m'\u001b[39m\u001b[39mSVD++\u001b[39m\u001b[39m'\u001b[39m, \u001b[39m'\u001b[39m\u001b[39mNMF\u001b[39m\u001b[39m'\u001b[39m, \u001b[39m'\u001b[39m\u001b[39mKNNBasic\u001b[39m\u001b[39m'\u001b[39m, \u001b[39m'\u001b[39m\u001b[39mKNNWithMeans\u001b[39m\u001b[39m'\u001b[39m]\n\u001b[1;32m----> <a href='vscode-notebook-cell:/c%3A/Users/wsluvv/Desktop/%D0%9F%D0%A0_%D0%9C%D0%9D_8/%D0%9F%D0%A0_%D0%9C%D0%9D_8/Dombrovsky_8_7.ipynb#W4sZmlsZQ%3D%3D?line=2'>3</a>\u001b[0m mean_rmse_values \u001b[39m=\u001b[39m [mean_rmse_svd, mean_rmse_svdpp, mean_rmse_nmf, mean_rmse_knn_basic, mean_rmse_knn_means]\n\u001b[0;32m      <a href='vscode-notebook-cell:/c%3A/Users/wsluvv/Desktop/%D0%9F%D0%A0_%D0%9C%D0%9D_8/%D0%9F%D0%A0_%D0%9C%D0%9D_8/Dombrovsky_8_7.ipynb#W4sZmlsZQ%3D%3D?line=4'>5</a>\u001b[0m \u001b[39m# графік\u001b[39;00m\n\u001b[0;32m      <a href='vscode-notebook-cell:/c%3A/Users/wsluvv/Desktop/%D0%9F%D0%A0_%D0%9C%D0%9D_8/%D0%9F%D0%A0_%D0%9C%D0%9D_8/Dombrovsky_8_7.ipynb#W4sZmlsZQ%3D%3D?line=5'>6</a>\u001b[0m plt\u001b[39m.\u001b[39mfigure(figsize\u001b[39m=\u001b[39m(\u001b[39m10\u001b[39m, \u001b[39m6\u001b[39m))\n",
      "\u001b[1;31mNameError\u001b[0m: name 'mean_rmse_svd' is not defined"
     ]
    }
   ],
   "source": [
    "import matplotlib.pyplot as plt\n",
    "algorithms = ['SVD', 'SVD++', 'NMF', 'KNNBasic', 'KNNWithMeans']\n",
    "mean_rmse_values = [mean_rmse_svd, mean_rmse_svdpp, mean_rmse_nmf, mean_rmse_knn_basic, mean_rmse_knn_means]\n",
    "\n",
    "# графік\n",
    "plt.figure(figsize=(10, 6))\n",
    "plt.bar(algorithms, mean_rmse_values, color=['blue', 'orange', 'green', 'red', 'purple'])\n",
    "plt.title('Mean RMSE for Different Algorithms')\n",
    "plt.xlabel('Algorithms')\n",
    "plt.ylabel('Mean RMSE')\n",
    "plt.show()"
   ]
  }
 ],
 "metadata": {
  "kernelspec": {
   "display_name": "Python 3",
   "language": "python",
   "name": "python3"
  },
  "language_info": {
   "codemirror_mode": {
    "name": "ipython",
    "version": 3
   },
   "file_extension": ".py",
   "mimetype": "text/x-python",
   "name": "python",
   "nbconvert_exporter": "python",
   "pygments_lexer": "ipython3",
   "version": "3.11.6"
  }
 },
 "nbformat": 4,
 "nbformat_minor": 2
}
